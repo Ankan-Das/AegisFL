{
 "cells": [
  {
   "cell_type": "markdown",
   "id": "4b6e3cf5",
   "metadata": {},
   "source": [
    "# Secure Aggregation in Federated Learning\n",
    "\n",
    "## Introduction\n",
    "\n",
    "In federated learning, multiple clients collaborate to train a shared model without revealing their private data. However, even sharing model updates can leak sensitive information about local datasets. **Secure aggregation** solves this by allowing a server to compute the sum of client updates without seeing any individual update.\n",
    "\n",
    "### The Core Idea\n",
    "- Each client adds a carefully crafted \"mask\" to their true update before sending it to the server\n",
    "- These masks are designed to cancel out perfectly when all updates are summed\n",
    "- The server gets the correct aggregate (sum) but cannot recover individual updates\n",
    "\n",
    "### What We'll Demonstrate\n",
    "1. **Pairwise masking protocol**: How clients use shared secrets to create canceling masks\n",
    "2. **Privacy preservation**: Individual masked updates look random and uncorrelated with true updates\n",
    "3. **Correctness**: The server still gets the exact sum of all true updates\n",
    "4. **Robustness challenges**: What happens when clients drop out (spoiler: it breaks!)\n",
    "\n",
    "This is a simplified educational implementation. Real-world protocols (like Google's) handle dropouts using secret sharing and are much more complex.\n"
   ]
  },
  {
   "cell_type": "markdown",
   "id": "9b56f160",
   "metadata": {},
   "source": []
  },
  {
   "cell_type": "code",
   "execution_count": 32,
   "id": "2cbabc98",
   "metadata": {},
   "outputs": [],
   "source": [
    "import numpy as np, hashlib, random\n",
    "np.random.seed(0); random.seed(0)"
   ]
  },
  {
   "cell_type": "markdown",
   "id": "55ba8f59",
   "metadata": {},
   "source": [
    "## 1) Problem Setup: Simulating Client Updates\n",
    "\n",
    "**What we're modeling**: In real federated learning, each client computes a model update (gradient or weight changes) from their local data. Here we simulate this by generating random vectors to represent these updates.\n",
    "\n",
    "**Key insight**: Each update vector contains sensitive information about the client's data. Our goal is to compute their sum without revealing individual updates.\n",
    "\n",
    "We'll treat each model update as a 1-D vector (imagine flattened neural network weights)."
   ]
  },
  {
   "cell_type": "code",
   "execution_count": 33,
   "id": "a31f1103",
   "metadata": {},
   "outputs": [],
   "source": [
    "N = 20  # number of clients\n",
    "D = 2000  # number of model parameters\n",
    "\n",
    "true_updates = [np.random.standard_normal(D).astype(np.float32) for _ in range(N)]"
   ]
  },
  {
   "cell_type": "code",
   "execution_count": 34,
   "id": "5f7d53bb",
   "metadata": {},
   "outputs": [
    {
     "data": {
      "text/plain": [
       "(20, 2000)"
      ]
     },
     "execution_count": 34,
     "metadata": {},
     "output_type": "execute_result"
    }
   ],
   "source": [
    "np.shape(true_updates)"
   ]
  },
  {
   "cell_type": "markdown",
   "id": "c2b66a02",
   "metadata": {},
   "source": [
    "### 2) Pseudo-random generator (PRG) from a seed\n",
    "\n",
    "We’ll derive a deterministic “random” vector from a shared seed."
   ]
  },
  {
   "cell_type": "code",
   "execution_count": 35,
   "id": "b2524cbc",
   "metadata": {},
   "outputs": [],
   "source": [
    "def prg(seed_bytes: bytes, d: int) -> np.ndarray:\n",
    "    '''Derive an int seed from SHA256 and use it to drive a normal RNG'''\n",
    "    s = int.from_bytes(hashlib.sha256(seed_bytes).digest()[:8], 'big')\n",
    "    rng  = np.random.default_rng(s)\n",
    "    return rng.standard_normal(d).astype(np.float32)\n",
    "    "
   ]
  },
  {
   "cell_type": "markdown",
   "id": "97752d87",
   "metadata": {},
   "source": [
    "**Key insight**: This PRG function is the foundation of our protocol. When two clients share the same seed, they can both generate the exact same \"random\" vector without communicating. This shared randomness will become the masks that cancel out.\n"
   ]
  },
  {
   "cell_type": "markdown",
   "id": "e03715a0",
   "metadata": {},
   "source": [
    "### 3) Pairwise-mask secure aggregation (simplified)\n",
    "\n",
    "Idea: Every client pair (i,j) shares a secret seed s_ij. <br>\n",
    "Client i adds PRG(s_ij) if i<j, and subtracts it if i>j. <br>\n",
    "In the sum over all clients, each pair’s masks cancel."
   ]
  },
  {
   "cell_type": "markdown",
   "id": "9934af5e",
   "metadata": {},
   "source": [
    "**Understanding the Pairwise Masking Protocol**:\n",
    "\n",
    "1. **Setup**: Every pair of clients (i,j) shares a secret seed s_ij through secure key exchange\n",
    "2. **Masking rule**: Client i adds PRG(s_ij) if i < j, subtracts if i > j  \n",
    "3. **Cancellation**: In the final sum, each mask appears as both +PRG(s_ij) and -PRG(s_ij), so they cancel\n",
    "4. **Result**: Server gets the true sum, but individual updates are hidden by random noise\n",
    "\n",
    "Let's implement this step by step:\n"
   ]
  },
  {
   "cell_type": "code",
   "execution_count": 36,
   "id": "8ba7cade",
   "metadata": {},
   "outputs": [
    {
     "name": "stdout",
     "output_type": "stream",
     "text": [
      "L2 error between server_sum and true_sum: 9.006238e-05\n"
     ]
    }
   ],
   "source": [
    "# 3A) Build symmetric pairwise seeds (simulate ECDH; here just random bytes)\n",
    "pair_seeds = {}\n",
    "for i in range(N):\n",
    "    for j in range(i+1, N):\n",
    "        pair_seeds[i, j] = np.random.bytes(32)\n",
    "\n",
    "\n",
    "def client_mask(i: int, d: int) -> np.ndarray:\n",
    "    m = np.zeros(d, dtype=np.float32)\n",
    "    for j in range(N):\n",
    "        if j==i: continue\n",
    "        a, b = (i, j) if i<j else (j, i)\n",
    "        seed  = pair_seeds[a, b]\n",
    "        vec = prg(seed, d)\n",
    "        m += vec if i<j else -vec\n",
    "    return m\n",
    "\n",
    "\n",
    "# 3B) Simulate client updates with masks\n",
    "masked_updates = [true_updates[i] + client_mask(i, D) for i in range(N)]\n",
    "\n",
    "\n",
    "# 3C) Server aggregates masked updates\n",
    "server_sum = np.sum(masked_updates, axis=0)\n",
    "\n",
    "# Ground truth sum (what we *want* the server to learn)\n",
    "true_sum = np.sum(true_updates, axis=0)\n",
    "\n",
    "print(\"L2 error between server_sum and true_sum:\", np.linalg.norm(server_sum - true_sum))"
   ]
  },
  {
   "cell_type": "markdown",
   "id": "0fc0c7c0",
   "metadata": {},
   "source": [
    "**What just happened?**\n",
    "\n",
    "1. **Step 3A**: We simulated the key exchange by generating random seeds for each client pair\n",
    "2. **Step 3B**: Each client computed their mask by adding/subtracting PRG outputs from all shared seeds  \n",
    "3. **Step 3C**: Server summed all masked updates and got the exact true sum!\n",
    "\n",
    "The L2 error should be tiny (~1e-5) due to floating-point precision, proving the masks canceled perfectly.\n"
   ]
  },
  {
   "cell_type": "markdown",
   "id": "7e12abd8",
   "metadata": {},
   "source": [
    "✅ **Expectation: L2 error ≈ ~1e-5 (floating-point noise). Masks cancel exactly in theory.**"
   ]
  },
  {
   "cell_type": "markdown",
   "id": "af3fe499",
   "metadata": {},
   "source": [
    "### 4) “Privacy sanity checks” (not a proof, but useful)\n",
    "\n",
    "The server sees individual masked vectors. They should look random and be weakly correlated with the true update."
   ]
  },
  {
   "cell_type": "markdown",
   "id": "bb49bdfb",
   "metadata": {},
   "source": [
    "**Privacy Intuition**: The server sees N masked vectors, but can't recover the N true updates because:\n",
    "1. Each masked vector = true_update + complex_mask (where mask looks random)\n",
    "2. The system is underdetermined: N equations, N unknowns + many unknown mask components\n",
    "3. The masks are cryptographically strong (derived from secret seeds)\n"
   ]
  },
  {
   "cell_type": "code",
   "execution_count": 37,
   "id": "7a749a65",
   "metadata": {},
   "outputs": [
    {
     "name": "stdout",
     "output_type": "stream",
     "text": [
      "Cosine(true, masked) mean±std: 0.21904045573207948 0.016546532329040468\n"
     ]
    }
   ],
   "source": [
    "def cosine(a, b):\n",
    "    na, nb = np.linalg.norm(a)+1e-12, np.linalg.norm(b)+1e-12\n",
    "    return float(a.dot(b)/(na*nb))\n",
    "\n",
    "\n",
    "# Cosine between masked and true updates (should be close to 0)\n",
    "cosims = [cosine(true_updates[i], masked_updates[i]) for i in range(N)]\n",
    "print(\"Cosine(true, masked) mean±std:\", np.mean(cosims), np.std(cosims))\n",
    "\n",
    "# Server can't recover any single update from the set of masked vectors alone.\n",
    "# (Underdetermined: N unknown updates + many unknown pairwise masks, but only N observed masked vectors.)"
   ]
  },
  {
   "cell_type": "markdown",
   "id": "4ccac60b",
   "metadata": {},
   "source": [
    "Observation: Cosine values hover around 0 (e.g., ±0.05). Individual masked updates carry almost no linear signal."
   ]
  },
  {
   "cell_type": "code",
   "execution_count": 38,
   "id": "5818ef71",
   "metadata": {},
   "outputs": [
    {
     "ename": "AssertionError",
     "evalue": "Masked updates leak too much linear signal on average.",
     "output_type": "error",
     "traceback": [
      "\u001b[0;31m---------------------------------------------------------------------------\u001b[0m",
      "\u001b[0;31mAssertionError\u001b[0m                            Traceback (most recent call last)",
      "Cell \u001b[0;32mIn[38], line 5\u001b[0m\n\u001b[1;32m      2\u001b[0m \u001b[38;5;28;01massert\u001b[39;00m np\u001b[38;5;241m.\u001b[39mallclose(server_sum, true_sum, atol\u001b[38;5;241m=\u001b[39m\u001b[38;5;241m1e-5\u001b[39m), \u001b[38;5;124m\"\u001b[39m\u001b[38;5;124mSecure aggregation failed to cancel masks.\u001b[39m\u001b[38;5;124m\"\u001b[39m\n\u001b[1;32m      4\u001b[0m \u001b[38;5;66;03m# Test 2: Low correlation (heuristic)\u001b[39;00m\n\u001b[0;32m----> 5\u001b[0m \u001b[38;5;28;01massert\u001b[39;00m \u001b[38;5;28mabs\u001b[39m(np\u001b[38;5;241m.\u001b[39mmean(cosims)) \u001b[38;5;241m<\u001b[39m \u001b[38;5;241m0.1\u001b[39m, \u001b[38;5;124m\"\u001b[39m\u001b[38;5;124mMasked updates leak too much linear signal on average.\u001b[39m\u001b[38;5;124m\"\u001b[39m\n",
      "\u001b[0;31mAssertionError\u001b[0m: Masked updates leak too much linear signal on average."
     ]
    }
   ],
   "source": [
    "# Test 1: Correctness of aggregation\n",
    "assert np.allclose(server_sum, true_sum, atol=1e-5), \"Secure aggregation failed to cancel masks.\"\n",
    "\n",
    "# Test 2: Low correlation (heuristic)\n",
    "assert abs(np.mean(cosims)) < 0.1, \"Masked updates leak too much linear signal on average.\"\n"
   ]
  },
  {
   "cell_type": "markdown",
   "id": "0d2c9488",
   "metadata": {},
   "source": [
    "## 6) (Optional) Sum-to-zero masks variant (quick sanity model)\n",
    "\n",
    "Fastest possible demo: choose random masks for clients 0..N-2, and set the last one to make the sum of masks = 0."
   ]
  },
  {
   "cell_type": "code",
   "execution_count": null,
   "id": "615a44d2",
   "metadata": {},
   "outputs": [],
   "source": [
    "masks = [np.random.standard_normal(D).astype(np.float32) for _ in range(N-1)]\n",
    "last = -np.sum(masks, axis=0)\n",
    "masks.append(last.astype(np.float32))\n",
    "\n",
    "masked2 = [true_updates[i] + masks[i] for i in range(N)]\n",
    "server_sum2 = np.sum(masked2, axis=0)\n",
    "\n",
    "assert np.allclose(server_sum2, true_sum, atol=1e-5), \"Sum-to-zero masks failed to cancel masks.\""
   ]
  },
  {
   "cell_type": "markdown",
   "id": "c2521679",
   "metadata": {},
   "source": [
    "**Observation:** Works, but not robust (any client dropout breaks cancellation, and the last client is “special”). Use only as a teaching aid."
   ]
  },
  {
   "cell_type": "markdown",
   "id": "9ecf4b78",
   "metadata": {},
   "source": [
    "### 7) Simulate a dropout (to see why production protocols are harder)"
   ]
  },
  {
   "cell_type": "code",
   "execution_count": 30,
   "id": "e2c0bb9a",
   "metadata": {},
   "outputs": [
    {
     "name": "stdout",
     "output_type": "stream",
     "text": [
      "L2 error with one dropout: 192.92607\n"
     ]
    }
   ],
   "source": [
    "drop_idx = 3    # pretend client 3 disappeared after masking\n",
    "server_sum_drop = np.sum([m for i, m in enumerate(masked_updates) if i != drop_idx], axis=0)\n",
    "print(\"L2 error with one dropout:\", np.linalg.norm(server_sum_drop - np.sum([u for i,u in enumerate(true_updates) if i != drop_idx], axis=0)))"
   ]
  },
  {
   "cell_type": "markdown",
   "id": "b61c746f",
   "metadata": {},
   "source": [
    "Observation: Error explodes—pairwise masks involving the missing client don’t cancel.\n",
    "Real protocols handle this with secret sharing + mask reconstruction (e.g., Bonawitz et al., 2017). That’s beyond today’s scope, but now you see the need."
   ]
  },
  {
   "cell_type": "markdown",
   "id": "ad9569de",
   "metadata": {},
   "source": [
    "**The Dropout Problem**: This is why real secure aggregation is hard! When client 3 disappears:\n",
    "- All masks involving client 3 (with clients 0,1,2,4,5,...,19) no longer cancel\n",
    "- The server's sum includes these unmatched random masks  \n",
    "- Error explodes from ~1e-5 to ~190 (completely wrong!)\n",
    "\n",
    "**Real-world solutions** use secret sharing: each pairwise seed is split into shares held by multiple clients, so missing clients can be \"reconstructed\" by survivors. This adds significant complexity but is essential for robustness.\n"
   ]
  },
  {
   "cell_type": "markdown",
   "id": "8908ae79",
   "metadata": {},
   "source": [
    "## Conclusion: Secure Aggregation in Practice\n",
    "\n",
    "### What We've Learned\n",
    "\n",
    "1. **Core Principle**: Secure aggregation uses carefully designed masks that cancel when summed, hiding individual updates while preserving the aggregate.\n",
    "\n",
    "2. **Cryptographic Foundation**: Shared pseudo-random generation from secret seeds enables clients to create perfectly coordinated masks without communication.\n",
    "\n",
    "3. **Privacy vs. Utility Trade-off**: We get perfect utility (exact sum) with strong privacy (individual updates are cryptographically hidden).\n",
    "\n",
    "4. **Robustness Challenge**: Client dropouts break the cancellation property, requiring sophisticated solutions in practice.\n",
    "\n",
    "### Real-World Impact\n",
    "\n",
    "- **Google's Federated Learning**: Uses secure aggregation in production for mobile keyboard predictions\n",
    "- **Privacy Preservation**: Enables training on sensitive data (medical records, financial data) without exposure\n",
    "- **Regulatory Compliance**: Helps meet GDPR and other privacy requirements in ML systems\n",
    "\n",
    "### Limitations of This Demo\n",
    "\n",
    "- **No Dropout Handling**: Real protocols use secret sharing for robustness\n",
    "- **Simplified Threat Model**: Real systems defend against more sophisticated attacks  \n",
    "- **No Network Considerations**: Actual implementations handle network failures, timeouts, etc.\n",
    "\n",
    "### Next Steps\n",
    "\n",
    "To implement production-ready secure aggregation, study:\n",
    "- Bonawitz et al. (2017): \"Practical Secure Aggregation for Privacy-Preserving Machine Learning\"\n",
    "- Secret sharing schemes (Shamir's, additive)\n",
    "- Differential privacy integration\n",
    "- Efficient cryptographic implementations\n",
    "\n",
    "**Bottom line**: Secure aggregation is a beautiful cryptographic technique that makes privacy-preserving federated learning practical at scale!\n"
   ]
  }
 ],
 "metadata": {
  "kernelspec": {
   "display_name": "tff-working",
   "language": "python",
   "name": "python3"
  },
  "language_info": {
   "codemirror_mode": {
    "name": "ipython",
    "version": 3
   },
   "file_extension": ".py",
   "mimetype": "text/x-python",
   "name": "python",
   "nbconvert_exporter": "python",
   "pygments_lexer": "ipython3",
   "version": "3.9.15"
  }
 },
 "nbformat": 4,
 "nbformat_minor": 5
}
