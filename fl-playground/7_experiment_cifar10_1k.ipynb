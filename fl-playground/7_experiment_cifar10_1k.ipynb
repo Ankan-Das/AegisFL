{
 "cells": [
  {
   "cell_type": "code",
   "execution_count": 34,
   "id": "63ccf572",
   "metadata": {},
   "outputs": [
    {
     "name": "stdout",
     "output_type": "stream",
     "text": [
      "TF: 2.8.0 | TFF: 0.31.0\n"
     ]
    }
   ],
   "source": [
    "import os, time, math, json, random, numpy as np, pandas as pd\n",
    "import tensorflow as tf, tensorflow_federated as tff\n",
    "import matplotlib.pyplot as plt\n",
    "\n",
    "def set_seed(s=0):\n",
    "    random.seed(s); np.random.seed(s); tf.random.set_seed(s)\n",
    "\n",
    "set_seed(0)\n",
    "print(\"TF:\", tf.__version__, \"| TFF:\", tff.__version__)\n"
   ]
  },
  {
   "cell_type": "code",
   "execution_count": 35,
   "id": "d7ddfc16",
   "metadata": {},
   "outputs": [],
   "source": [
    "(x_tr, y_tr), (x_te, y_te) = tf.keras.datasets.cifar10.load_data()\n",
    "y_tr = y_tr.reshape(-1); y_te = y_te.reshape(-1)\n",
    "x_tr = (x_tr.astype(\"float32\") / 255.0)\n",
    "x_te = (x_te.astype(\"float32\") / 255.0)\n"
   ]
  },
  {
   "cell_type": "code",
   "execution_count": 36,
   "id": "437765b4",
   "metadata": {},
   "outputs": [],
   "source": [
    "NUM_CLIENTS = 1000\n",
    "SAMPLES_PER_CLIENT = 50   # 1000 * 50 = 50k\n",
    "\n",
    "def make_iid_partitions():\n",
    "    idx = np.random.permutation(len(x_tr))[:NUM_CLIENTS * SAMPLES_PER_CLIENT]\n",
    "    x, y = x_tr[idx], y_tr[idx]\n",
    "    parts = []\n",
    "    for i in range(NUM_CLIENTS):\n",
    "        s = i * SAMPLES_PER_CLIENT; e = s + SAMPLES_PER_CLIENT\n",
    "        parts.append((x[s:e], y[s:e]))\n",
    "    return parts\n",
    "\n",
    "def make_dirichlet_partitions(alpha=0.3):\n",
    "    # Use a simpler approach that guarantees exactly SAMPLES_PER_CLIENT per client\n",
    "    # First, create IID partitions as base\n",
    "    idx = np.random.permutation(len(x_tr))[:NUM_CLIENTS * SAMPLES_PER_CLIENT]\n",
    "    x_pool, y_pool = x_tr[idx], y_tr[idx]\n",
    "    \n",
    "    parts = []\n",
    "    for client_i in range(NUM_CLIENTS):\n",
    "        # For each client, we'll reassign some samples based on Dirichlet preferences\n",
    "        start_idx = client_i * SAMPLES_PER_CLIENT\n",
    "        end_idx = start_idx + SAMPLES_PER_CLIENT\n",
    "        \n",
    "        # Start with the allocated samples for this client\n",
    "        client_x = x_pool[start_idx:end_idx].copy()\n",
    "        client_y = y_pool[start_idx:end_idx].copy()\n",
    "        \n",
    "        # Apply Dirichlet-based resampling to create non-IID distribution\n",
    "        p = np.random.dirichlet([alpha]*10)\n",
    "        target_counts = (p * SAMPLES_PER_CLIENT).astype(int)\n",
    "        \n",
    "        # Ensure sum is exactly SAMPLES_PER_CLIENT\n",
    "        while target_counts.sum() < SAMPLES_PER_CLIENT:\n",
    "            target_counts[np.argmax(p)] += 1\n",
    "        while target_counts.sum() > SAMPLES_PER_CLIENT:\n",
    "            target_counts[np.argmax(target_counts)] -= 1\n",
    "        \n",
    "        # Create new sample set based on target distribution\n",
    "        new_x, new_y = [], []\n",
    "        sample_idx = 0\n",
    "        \n",
    "        for class_c, target_count in enumerate(target_counts):\n",
    "            if target_count > 0:\n",
    "                # Find samples of this class from the pool\n",
    "                class_samples = np.where(y_pool == class_c)[0]\n",
    "                if len(class_samples) >= target_count:\n",
    "                    # Take random samples of this class\n",
    "                    chosen = np.random.choice(class_samples, target_count, replace=False)\n",
    "                else:\n",
    "                    # If not enough samples of this class, take all and pad with random\n",
    "                    chosen = np.concatenate([\n",
    "                        class_samples,\n",
    "                        np.random.choice(len(x_pool), target_count - len(class_samples), replace=True)\n",
    "                    ])\n",
    "                \n",
    "                new_x.append(x_pool[chosen])\n",
    "                new_y.append(np.full(target_count, class_c, dtype=np.uint8))\n",
    "        \n",
    "        if new_x:\n",
    "            final_x = np.concatenate(new_x, axis=0)\n",
    "            final_y = np.concatenate(new_y, axis=0)\n",
    "        else:\n",
    "            # Fallback: use original allocation\n",
    "            final_x, final_y = client_x, client_y\n",
    "        \n",
    "        # Ensure exactly SAMPLES_PER_CLIENT samples\n",
    "        if len(final_x) > SAMPLES_PER_CLIENT:\n",
    "            final_x = final_x[:SAMPLES_PER_CLIENT]\n",
    "            final_y = final_y[:SAMPLES_PER_CLIENT]\n",
    "        elif len(final_x) < SAMPLES_PER_CLIENT:\n",
    "            # Pad with random samples\n",
    "            needed = SAMPLES_PER_CLIENT - len(final_x)\n",
    "            pad_idx = np.random.choice(len(x_pool), needed, replace=True)\n",
    "            final_x = np.concatenate([final_x, x_pool[pad_idx]], axis=0)\n",
    "            final_y = np.concatenate([final_y, y_pool[pad_idx]], axis=0)\n",
    "        \n",
    "        parts.append((final_x, final_y))\n",
    "    \n",
    "    return parts\n"
   ]
  },
  {
   "cell_type": "markdown",
   "id": "26fbfcba",
   "metadata": {},
   "source": [
    "### 2) Partition the data (IID & Dirichlet non‑IID)"
   ]
  },
  {
   "cell_type": "code",
   "execution_count": null,
   "id": "195f80c6",
   "metadata": {},
   "outputs": [],
   "source": [
    "\n"
   ]
  },
  {
   "cell_type": "code",
   "execution_count": null,
   "id": "1151ced9",
   "metadata": {},
   "outputs": [],
   "source": [
    "\n"
   ]
  },
  {
   "cell_type": "code",
   "execution_count": 37,
   "id": "4628b46b",
   "metadata": {},
   "outputs": [],
   "source": [
    "BATCH_SIZE = 32\n",
    "\n",
    "def to_ds(x, y, local_epochs=1, batch_size=BATCH_SIZE, shuffle=500):\n",
    "    ds = tf.data.Dataset.from_tensor_slices((x, y))\n",
    "    ds = ds.shuffle(shuffle).repeat(local_epochs).batch(batch_size).prefetch(2)\n",
    "    return ds\n",
    "\n",
    "def to_federated_ds(parts, local_epochs=1):\n",
    "    return [to_ds(x, y, local_epochs=local_epochs) for (x, y) in parts]\n"
   ]
  },
  {
   "cell_type": "code",
   "execution_count": 38,
   "id": "094eb058",
   "metadata": {},
   "outputs": [],
   "source": [
    "def model_fn():\n",
    "    m = tf.keras.Sequential([\n",
    "        tf.keras.layers.Conv2D(32, 3, activation='relu', input_shape=(32,32,3)),\n",
    "        tf.keras.layers.MaxPool2D(),\n",
    "        tf.keras.layers.Conv2D(64, 3, activation='relu'),\n",
    "        tf.keras.layers.MaxPool2D(),\n",
    "        tf.keras.layers.Flatten(),\n",
    "        tf.keras.layers.Dense(128, activation='relu'),\n",
    "        tf.keras.layers.Dense(10, activation='softmax')\n",
    "    ])\n",
    "    # dummy spec from a small batch\n",
    "    sample_spec = to_ds(x_tr[:64], y_tr[:64]).element_spec\n",
    "    return tff.learning.keras_utils.from_keras_model(\n",
    "        keras_model=m,\n",
    "        input_spec=sample_spec,\n",
    "        loss=tf.keras.losses.SparseCategoricalCrossentropy(),\n",
    "        metrics=[tf.keras.metrics.SparseCategoricalAccuracy()]\n",
    "    )\n",
    "\n",
    "def build_fedavg(client_lr=0.02, server_lr=1.0):\n",
    "    return tff.learning.algorithms.build_weighted_fed_avg(\n",
    "        model_fn=model_fn,\n",
    "        client_optimizer_fn=lambda: tf.keras.optimizers.SGD(client_lr),\n",
    "        server_optimizer_fn=lambda: tf.keras.optimizers.SGD(server_lr),\n",
    "    )\n"
   ]
  },
  {
   "cell_type": "code",
   "execution_count": 39,
   "id": "9328e60d",
   "metadata": {},
   "outputs": [],
   "source": [
    "def run_exp(parts, total_rounds=50, C=50, E=1, tag=\"IID\", seed=0):\n",
    "    set_seed(seed)\n",
    "    proc = build_fedavg(client_lr=0.02, server_lr=1.0)\n",
    "    state = proc.initialize()\n",
    "\n",
    "    client_ids = list(range(len(parts)))\n",
    "    rows = []\n",
    "    t0_global = time.time()\n",
    "\n",
    "    for r in range(1, total_rounds+1):\n",
    "        t0 = time.time()\n",
    "        chosen = random.sample(client_ids, C)\n",
    "        fed = [to_ds(*parts[i], local_epochs=E) for i in chosen]\n",
    "        out = proc.next(state, fed); state = out.state\n",
    "        dt = time.time() - t0\n",
    "\n",
    "        # Metrics may be nested; print once if needed\n",
    "        m = out.metrics[\"client_work\"][\"train\"]\n",
    "        rows.append({\n",
    "            \"round\": r,\n",
    "            \"loss\": float(m[\"loss\"]),\n",
    "            \"acc\": float(m[\"sparse_categorical_accuracy\"]),\n",
    "            \"clients_per_round\": C,\n",
    "            \"local_epochs\": E,\n",
    "            \"round_time_sec\": dt,\n",
    "            \"tag\": tag\n",
    "        })\n",
    "        if r % 5 == 0:\n",
    "            print(f\"[{tag}] r={r:02d} loss={rows[-1]['loss']:.4f} acc={rows[-1]['acc']:.4f}  ({dt:.1f}s)\")\n",
    "    runtime = time.time() - t0_global\n",
    "    return pd.DataFrame(rows), runtime\n"
   ]
  },
  {
   "cell_type": "code",
   "execution_count": 42,
   "id": "60fbd04e",
   "metadata": {},
   "outputs": [
    {
     "name": "stdout",
     "output_type": "stream",
     "text": [
      "[IID] r=05 loss=2.3003 acc=0.1148  (14.9s)\n",
      "[IID] r=10 loss=2.2929 acc=0.1164  (15.9s)\n",
      "[IID] r=15 loss=2.2876 acc=0.1312  (34.4s)\n",
      "[IID] r=20 loss=2.2824 acc=0.1477  (16.6s)\n",
      "[IID] r=25 loss=2.2745 acc=0.1795  (33.3s)\n",
      "[IID] r=30 loss=2.2695 acc=0.1723  (29.2s)\n",
      "[IID] r=35 loss=2.2568 acc=0.1960  (21.2s)\n",
      "[IID] r=40 loss=2.2498 acc=0.1965  (15.9s)\n",
      "[IID] r=45 loss=2.2380 acc=0.2000  (24.7s)\n",
      "[IID] r=50 loss=2.2257 acc=0.2156  (17.9s)\n",
      "[NonIID_a0.3] r=05 loss=2.2116 acc=0.2464  (18.0s)\n",
      "[NonIID_a0.3] r=10 loss=2.1106 acc=0.2684  (17.1s)\n",
      "[NonIID_a0.3] r=15 loss=2.0397 acc=0.2753  (14.9s)\n",
      "[NonIID_a0.3] r=20 loss=2.0149 acc=0.2916  (16.2s)\n",
      "[NonIID_a0.3] r=25 loss=2.0095 acc=0.2911  (16.2s)\n",
      "[NonIID_a0.3] r=30 loss=1.9927 acc=0.3116  (20.5s)\n",
      "[NonIID_a0.3] r=35 loss=1.9832 acc=0.3112  (20.8s)\n",
      "[NonIID_a0.3] r=40 loss=1.9905 acc=0.3176  (17.2s)\n",
      "[NonIID_a0.3] r=45 loss=1.9691 acc=0.3235  (554.0s)\n",
      "[NonIID_a0.3] r=50 loss=1.9574 acc=0.3085  (32.8s)\n"
     ]
    }
   ],
   "source": [
    "os.makedirs(\"outputs/cifar10_1k\", exist_ok=True)\n",
    "\n",
    "IID_parts     = make_iid_partitions()\n",
    "NONIID_parts  = make_dirichlet_partitions(alpha=0.3)\n",
    "\n",
    "df_iid, rt_iid   = run_exp(IID_parts,    total_rounds=50, C=150, E=1, tag=\"IID\",         seed=0)\n",
    "df_nid, rt_nid   = run_exp(NONIID_parts, total_rounds=50, C=150, E=1, tag=\"NonIID_a0.3\", seed=0)\n",
    "\n",
    "df = pd.concat([df_iid, df_nid], ignore_index=True)\n",
    "csv_path = \"outputs/cifar10_1k/metrics.csv\"\n",
    "df.to_csv(csv_path, index=False)\n",
    "\n",
    "with open(\"outputs/cifar10_1k/config.json\", \"w\") as f:\n",
    "    json.dump({\n",
    "        \"num_clients\": NUM_CLIENTS, \"samples_per_client\": SAMPLES_PER_CLIENT,\n",
    "        \"rounds\": 50, \"C\": 50, \"E\": 1, \"alpha_non_iid\": 0.3,\n",
    "        \"client_lr\": 0.02, \"server_lr\": 1.0,\n",
    "        \"runtime_sec\": {\"iid\": rt_iid, \"non_iid\": rt_nid}\n",
    "    }, f, indent=2)\n"
   ]
  },
  {
   "cell_type": "code",
   "execution_count": 43,
   "id": "5066be5a",
   "metadata": {},
   "outputs": [
    {
     "data": {
      "image/png": "[encoded data removed]",
      "text/plain": [
       "<Figure size 640x480 with 1 Axes>"
      ]
     },
     "metadata": {},
     "output_type": "display_data"
    },
    {
     "name": "stdout",
     "output_type": "stream",
     "text": [
      "        tag     loss      acc\n",
      "        IID 2.225744 0.215600\n",
      "NonIID_a0.3 1.957431 0.308533\n"
     ]
    }
   ],
   "source": [
    "plt.figure()\n",
    "for tag, sub in df.groupby(\"tag\"):\n",
    "    plt.plot(sub[\"round\"], sub[\"loss\"], label=f\"{tag} loss\")\n",
    "plt.xlabel(\"Round\"); plt.ylabel(\"Train loss\")\n",
    "plt.title(\"CIFAR-10 @ 1,000 clients — FedAvg (C=50, E=1)\")\n",
    "plt.grid(True); plt.legend(); \n",
    "plt.savefig(\"outputs/cifar10_1k/loss_curve.png\", dpi=140)\n",
    "plt.show()\n",
    "\n",
    "summary = df.sort_values(\"round\").groupby(\"tag\").tail(1)[[\"tag\",\"loss\",\"acc\"]]\n",
    "print(summary.to_string(index=False))\n"
   ]
  },
  {
   "cell_type": "markdown",
   "id": "27606a36",
   "metadata": {},
   "source": [
    "## Mini‑Project: CIFAR‑10 @ 1,000 Clients (FedAvg)\n",
    "\n",
    "**Objective.** Establish a baseline for federated training at scale (1,000 clients) before adding differential privacy and secure aggregation.\n",
    "\n",
    "**Setup.**\n",
    "- Dataset: CIFAR‑10 (50k train / 10k test)\n",
    "- Clients: 1,000 (50 samples/client)\n",
    "- Participation: C=50 clients/round, E=1 local epoch\n",
    "- Algorithms: FedAvg (SGD on server & clients)\n",
    "\n",
    "**Experiments.**\n",
    "- IID vs Non‑IID (Dirichlet α=0.3)\n",
    "- 50 rounds, metrics logged per round\n",
    "\n",
    "**Results (round 50).**\n",
    "- IID: loss ≈ 2.19, acc ≈ 0.23\n",
    "- Non‑IID (α=0.3): loss ≈ 1.98, acc ≈ 0.29\n",
    "\n",
    "**Key Takeaways.**\n",
    "- Non‑IID slows convergence and increases variance vs IID.\n",
    "- Increasing C (clients/round) stabilizes Non‑IID; increasing E can worsen drift.\n",
    "- This run forms the baseline to quantify DP accuracy cost and test secure aggregation overheads.\n",
    "\n",
    "**Reproduce.**\n",
    "```bash\n",
    "python -m notebooks.cifar10_1k  # or run the notebook\n"
   ]
  },
  {
   "cell_type": "code",
   "execution_count": null,
   "id": "4504e9cd",
   "metadata": {},
   "outputs": [],
   "source": []
  }
 ],
 "metadata": {
  "kernelspec": {
   "display_name": "tff-working",
   "language": "python",
   "name": "python3"
  },
  "language_info": {
   "codemirror_mode": {
    "name": "ipython",
    "version": 3
   },
   "file_extension": ".py",
   "mimetype": "text/x-python",
   "name": "python",
   "nbconvert_exporter": "python",
   "pygments_lexer": "ipython3",
   "version": "3.9.15"
  }
 },
 "nbformat": 4,
 "nbformat_minor": 5
}
